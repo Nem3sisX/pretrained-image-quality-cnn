{
 "cells": [
  {
   "cell_type": "markdown",
   "id": "1336d544-a2c1-42af-99d8-b9e607d5475f",
   "metadata": {},
   "source": [
    "# Running an inference for images containing glare\n",
    "\n",
    "First, import necessary dependencies."
   ]
  },
  {
   "cell_type": "code",
   "execution_count": 1,
   "id": "344de828-81de-4094-9669-ec4b196bf030",
   "metadata": {},
   "outputs": [],
   "source": [
    "import tensorflow as tf \n",
    "import numpy as np \n",
    "from tensorflow.keras.preprocessing import image"
   ]
  },
  {
   "cell_type": "markdown",
   "id": "b145d665-7ef2-4622-b3ee-be84d35f6ab1",
   "metadata": {},
   "source": [
    "Next, load the model."
   ]
  },
  {
   "cell_type": "code",
   "execution_count": 2,
   "id": "7d1d0e7e-4a7b-4e28-8a5e-ba42ff9697a6",
   "metadata": {},
   "outputs": [],
   "source": [
    "glareCNN = tf.keras.models.load_model('model/glare/glare_detect.h5')"
   ]
  },
  {
   "cell_type": "markdown",
   "id": "f8a4ecd6-53bc-4ee1-8025-6c6b8b0cfb83",
   "metadata": {},
   "source": [
    "Thereafter, defining two helper functions. \n",
    "1. infer() runs the inference on a given image path. \n",
    "2. pred() converts the CNN output to meaningful prediction.  \n",
    "\n",
    "These helper functions will assist in running inferences for this model. "
   ]
  },
  {
   "cell_type": "code",
   "execution_count": 3,
   "id": "042443ff-d8ec-4f54-b9e6-e89aaf7d3d3d",
   "metadata": {},
   "outputs": [],
   "source": [
    "def infer(img_path,img_name):\n",
    "    test_image1 = image.load_img(str(img_path)+str(img_name), target_size = (64,64)) #reading an image from the given path and scaling to 64x64\n",
    "    test_image2 = image.img_to_array(test_image1) #convert PIL image to array\n",
    "    test_image2 = np.expand_dims(test_image2, axis = 0) #expand image dimensions to make it compatible with CNN input\n",
    "    result = glareCNN.predict(test_image2/255) #Values in the array scaled from [0,255] -> [0,1]\n",
    "    return test_image1,result #returning image for viewing and the associated CNN output"
   ]
  },
  {
   "cell_type": "code",
   "execution_count": 4,
   "id": "09409374-306a-4750-8e67-3c940f762b57",
   "metadata": {},
   "outputs": [],
   "source": [
    "def pred(score):\n",
    "    pred_class = \"\" #defining variable to store predictions\n",
    "    if score[0][0] <0.5: #CNN model refers to 0 as \"glare\" and 1 as \"not glare\", applying a threshold for both cases.\n",
    "        pred_class = \"Glare\" #values less than 0.5\n",
    "    else:\n",
    "        pred_class = \"Not Glare\" #values greater than 0.5\n",
    "    return pred_class"
   ]
  },
  {
   "cell_type": "markdown",
   "id": "7c050e13-1b9b-48c2-8dc1-632a4e7045e7",
   "metadata": {},
   "source": [
    "Defining the image path and name"
   ]
  },
  {
   "cell_type": "code",
   "execution_count": 5,
   "id": "efade230-8705-4a4f-88d0-1eb019902759",
   "metadata": {},
   "outputs": [],
   "source": [
    "img_path = 'images//glare//'\n",
    "img = 'im1.jpg'"
   ]
  },
  {
   "cell_type": "markdown",
   "id": "66488044-d879-42a9-a8f6-96048d69e572",
   "metadata": {},
   "source": [
    "Helper function called to run the inference"
   ]
  },
  {
   "cell_type": "code",
   "execution_count": 6,
   "id": "6fae527c-7869-4905-a141-0658b775c62e",
   "metadata": {},
   "outputs": [],
   "source": [
    "image_calc,result = infer(img_path,img)"
   ]
  },
  {
   "cell_type": "code",
   "execution_count": 7,
   "id": "6237efbf-833d-4f4e-9596-658c0eb12eb7",
   "metadata": {},
   "outputs": [],
   "source": [
    "classification = pred(result)"
   ]
  },
  {
   "cell_type": "markdown",
   "id": "f445e5e0-5e8f-480a-ad43-d2f16101f149",
   "metadata": {},
   "source": [
    "The image on which the inference was run on"
   ]
  },
  {
   "cell_type": "code",
   "execution_count": 8,
   "id": "72c12f99-0afc-463a-bf94-102dac0432b8",
   "metadata": {},
   "outputs": [
    {
     "data": {
      "image/png": "[encoded data removed]",
      "text/plain": [
       "<PIL.Image.Image image mode=RGB size=64x64 at 0x1FCB8029D90>"
      ]
     },
     "execution_count": 8,
     "metadata": {},
     "output_type": "execute_result"
    }
   ],
   "source": [
    "image_calc"
   ]
  },
  {
   "cell_type": "code",
   "execution_count": 9,
   "id": "e6faf66e-756a-4e73-b86f-fe3493d2fc75",
   "metadata": {},
   "outputs": [
    {
     "name": "stdout",
     "output_type": "stream",
     "text": [
      "[[0.10997206]] Glare\n"
     ]
    }
   ],
   "source": [
    "print(result, classification)"
   ]
  },
  {
   "cell_type": "markdown",
   "id": "b94f85a1-9d06-4280-9f6c-ac1a6febf2da",
   "metadata": {},
   "source": [
    "Now, you can run inferences using the pretrained models via helper functions.  \n",
    "Another example"
   ]
  },
  {
   "cell_type": "code",
   "execution_count": 10,
   "id": "23e14732-b0b7-4553-b25d-2f5e197b9c75",
   "metadata": {},
   "outputs": [],
   "source": [
    "img_path = 'images//glare//'\n",
    "img = 'im2.jpg'"
   ]
  },
  {
   "cell_type": "code",
   "execution_count": 11,
   "id": "bb6da628-bb4f-4655-b6d3-e890423fdcec",
   "metadata": {},
   "outputs": [],
   "source": [
    "image_calc,result = infer(img_path,img)\n",
    "classification = pred(result)"
   ]
  },
  {
   "cell_type": "code",
   "execution_count": 12,
   "id": "4dcdf2f7-0483-4323-bdda-70f950a4a091",
   "metadata": {},
   "outputs": [
    {
     "data": {
      "image/png": "[encoded data removed]",
      "text/plain": [
       "<PIL.Image.Image image mode=RGB size=64x64 at 0x1FCB919E4C0>"
      ]
     },
     "execution_count": 12,
     "metadata": {},
     "output_type": "execute_result"
    }
   ],
   "source": [
    "image_calc"
   ]
  },
  {
   "cell_type": "code",
   "execution_count": 13,
   "id": "a662605f-4519-42c4-ac45-a58c7bd1ad9a",
   "metadata": {},
   "outputs": [
    {
     "name": "stdout",
     "output_type": "stream",
     "text": [
      "[[0.13750693]] Glare\n"
     ]
    }
   ],
   "source": [
    "print(result, classification)"
   ]
  },
  {
   "cell_type": "markdown",
   "id": "4956b64c-7b1e-41b5-8b5d-56f56994d713",
   "metadata": {},
   "source": [
    "Let's check the same for images not containing glare."
   ]
  },
  {
   "cell_type": "code",
   "execution_count": 14,
   "id": "bbffae9f-79c7-48cd-bf9b-465a8686d32d",
   "metadata": {},
   "outputs": [],
   "source": [
    "img_path = 'images//not_glare//'\n",
    "img = 'im1.jpg'"
   ]
  },
  {
   "cell_type": "code",
   "execution_count": 15,
   "id": "06d2cf8c-7255-4023-9980-bb9fa7aeb0d8",
   "metadata": {},
   "outputs": [],
   "source": [
    "image_calc,result = infer(img_path,img)\n",
    "classification = pred(result)"
   ]
  },
  {
   "cell_type": "code",
   "execution_count": 16,
   "id": "50eeea0a-dd37-474d-9bcf-4ffef8151a20",
   "metadata": {},
   "outputs": [
    {
     "data": {
      "image/png": "[encoded data removed]",
      "text/plain": [
       "<PIL.Image.Image image mode=RGB size=64x64 at 0x1FCAD214970>"
      ]
     },
     "execution_count": 16,
     "metadata": {},
     "output_type": "execute_result"
    }
   ],
   "source": [
    "image_calc"
   ]
  },
  {
   "cell_type": "code",
   "execution_count": 17,
   "id": "d00ac94b-6d8d-40ec-bb1a-a4093aa8b930",
   "metadata": {},
   "outputs": [
    {
     "name": "stdout",
     "output_type": "stream",
     "text": [
      "[[0.98032624]] Not Glare\n"
     ]
    }
   ],
   "source": [
    "print(result, classification)"
   ]
  },
  {
   "cell_type": "markdown",
   "id": "0bc28c4d-fc3d-4308-a9bb-37ec79bb8ba3",
   "metadata": {},
   "source": [
    "In this case, let's use a brightly lit image not containing glare. This shows that the model generalizes well for scenes that are well lit."
   ]
  },
  {
   "cell_type": "code",
   "execution_count": 18,
   "id": "82777384-ff90-40fc-aae1-a9a0886784b6",
   "metadata": {},
   "outputs": [],
   "source": [
    "img_path = 'images//not_glare//'\n",
    "img = 'im2.jpg'"
   ]
  },
  {
   "cell_type": "code",
   "execution_count": 19,
   "id": "cb0bd055-25a7-454c-93e3-6c0f0666b7f1",
   "metadata": {},
   "outputs": [],
   "source": [
    "image_calc,result = infer(img_path,img)\n",
    "classification = pred(result)"
   ]
  },
  {
   "cell_type": "code",
   "execution_count": 20,
   "id": "ca0f5331-baa3-40ef-b03f-1be973762500",
   "metadata": {},
   "outputs": [
    {
     "data": {
      "image/png": "[encoded data removed]",
      "text/plain": [
       "<PIL.Image.Image image mode=RGB size=64x64 at 0x1FCB90AF4C0>"
      ]
     },
     "execution_count": 20,
     "metadata": {},
     "output_type": "execute_result"
    }
   ],
   "source": [
    "image_calc"
   ]
  },
  {
   "cell_type": "code",
   "execution_count": 21,
   "id": "1670d98f-4374-4ccc-8bd4-e9af623cceb3",
   "metadata": {},
   "outputs": [
    {
     "name": "stdout",
     "output_type": "stream",
     "text": [
      "[[0.9450362]] Not Glare\n"
     ]
    }
   ],
   "source": [
    "print(result, classification)"
   ]
  }
 ],
 "metadata": {
  "kernelspec": {
   "display_name": "Python 3 (ipykernel)",
   "language": "python",
   "name": "python3"
  },
  "language_info": {
   "codemirror_mode": {
    "name": "ipython",
    "version": 3
   },
   "file_extension": ".py",
   "mimetype": "text/x-python",
   "name": "python",
   "nbconvert_exporter": "python",
   "pygments_lexer": "ipython3",
   "version": "3.9.7"
  }
 },
 "nbformat": 4,
 "nbformat_minor": 5
}
